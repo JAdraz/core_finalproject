{
 "cells": [
  {
   "cell_type": "code",
   "execution_count": null,
   "metadata": {},
   "outputs": [],
   "source": [
    "import cv2\n",
    "import matplotlib.pyplot as plt\n",
    "import numpy as np\n",
    "import os"
   ]
  },
  {
   "cell_type": "code",
   "execution_count": null,
   "metadata": {},
   "outputs": [],
   "source": [
    "# Setting the images path\n",
    "\n",
    "jesus_train_path = \"../data/train/Jesus\"\n",
    "jesus_test_path = \"../data/test/Jesus\"\n",
    "\n",
    "obama_train_path = \"../data/train/Obama\"\n",
    "obama_test_path = \"../data/test/Obama\"\n"
   ]
  },
  {
   "cell_type": "code",
   "execution_count": null,
   "metadata": {},
   "outputs": [],
   "source": [
    "# This function load\n",
    "def load_images(images_path):\n",
    "    images = []\n",
    "    for img in os.listdir(images_path):\n",
    "        img_path = os.path.join(images_path,img)\n",
    "        try:\n",
    "            img = cv2.imread(img_path)\n",
    "            img = cv2.resize(img, (300,300), interpolation=cv2.INTER_CUBIC)\n",
    "            img = cv2.cvtColor(img, cv2.COLOR_BGR2GRAY)\n",
    "            images.append(img)\n",
    "        except Exception as e:\n",
    "            print(f\"Cannot load image {img_path}\")\n",
    "    print(f\"Loaded {len(images)} images from path {images_path}\")\n",
    "    return images"
   ]
  },
  {
   "cell_type": "code",
   "execution_count": null,
   "metadata": {},
   "outputs": [],
   "source": [
    "def crop_images(images):\n",
    "    images_crop = []\n",
    "    face_cascade = cv2.CascadeClassifier(cv2.data.haarcascades + 'haarcascade_frontalface_default.xml')\n",
    "    \n",
    "    for i in images:\n",
    "        faces = face_cascade.detectMultiScale(i, scaleFactor=1.1, minNeighbors=4, minSize=(30, 30), maxSize=(200,200), flags=cv2.CASCADE_SCALE_IMAGE)\n",
    "        for (x, y, w, h) in faces:\n",
    "            # cv2.rectangle(i, (x, y), (x+w, y+h), (0, 255, 0), 4)\n",
    "            crop = i[y:y+h, x:x+w]\n",
    "            print(i)\n",
    "            images_crop.append(crop)\n",
    "    return images_crop"
   ]
  },
  {
   "cell_type": "code",
   "execution_count": null,
   "metadata": {},
   "outputs": [],
   "source": [
    "images_in_array = np.array(crop_images(load_images(obama_train_path)))"
   ]
  },
  {
   "cell_type": "code",
   "execution_count": null,
   "metadata": {},
   "outputs": [],
   "source": [
    "print(images_in_array.shape)"
   ]
  },
  {
   "cell_type": "code",
   "execution_count": null,
   "metadata": {},
   "outputs": [],
   "source": [
    "plt.figure(figsize=(22,20))\n",
    "for i in range(len(images_in_array)):\n",
    "    plt.subplot(10,11,i+1)\n",
    "    plt.imshow(images_in_array[i], cmap=\"gray\")\n",
    "    plt.axis(\"off\")\n",
    "    plt.title(i)\n"
   ]
  }
 ],
 "metadata": {
  "kernelspec": {
   "display_name": "secondary",
   "language": "python",
   "name": "python3"
  },
  "language_info": {
   "codemirror_mode": {
    "name": "ipython",
    "version": 3
   },
   "file_extension": ".py",
   "mimetype": "text/x-python",
   "name": "python",
   "nbconvert_exporter": "python",
   "pygments_lexer": "ipython3",
   "version": "3.9.15"
  },
  "orig_nbformat": 4
 },
 "nbformat": 4,
 "nbformat_minor": 2
}
